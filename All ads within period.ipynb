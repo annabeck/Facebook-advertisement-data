{
 "cells": [
  {
   "cell_type": "code",
   "execution_count": 4,
   "metadata": {},
   "outputs": [],
   "source": [
    "import numpy as np\n",
    "import pandas as pd\n",
    "import requests\n",
    "import json\n",
    "from datetime import date\n",
    "import os\n",
    "import datetime as DT\n",
    "from datetime import datetime"
   ]
  },
  {
   "cell_type": "markdown",
   "metadata": {},
   "source": [
    "### kolonner i datasætter"
   ]
  },
  {
   "cell_type": "code",
   "execution_count": 5,
   "metadata": {},
   "outputs": [],
   "source": [
    "valid_query_fields = [\n",
    "    \"page_name\",\n",
    "    \"ad_creation_time\",\n",
    "    \"ad_delivery_start_time\",\n",
    "    \"ad_creative_body\",\n",
    "    \"ad_creative_link_caption\",\n",
    "    \"ad_creative_link_description\",\n",
    "    \"ad_creative_link_title\",\n",
    "    \"ad_delivery_stop_time\",\n",
    "    \"ad_snapshot_url\",\n",
    "    \"currency\",\n",
    "    \"demographic_distribution\",\n",
    "    \"funding_entity\",\n",
    "    \"impressions\",\n",
    "    \"potential_reach\",\n",
    "    \"page_id\",  \n",
    "    \"region_distribution\",\n",
    "    \"spend\",\n",
    "]"
   ]
  },
  {
   "cell_type": "markdown",
   "metadata": {},
   "source": [
    "# Token\n",
    "#### Get token via:\n",
    "https://developers.facebook.com/tools/explorer/\n",
    "#### Debug and make it last longer via:\n",
    "https://developers.facebook.com/tools/debug/accesstoken/?access_token=EAAl10MBSfuMBAL2JrWbZBTu2h2RdqO4ZAPZBA2uZB1SwDT9hZCF0DIUiDTYs7dh7YOEpem1U3clozZB7ddRrZBJ9HDDUnsgwtXbnmEuMQrSLRJhUIzoGum4xiYRVDKlRJZCSl5JUIV2rTjVblXZAkcXKIp3SERLKJ7teZBwjFgaAfqDkftka90jz0D"
   ]
  },
  {
   "cell_type": "code",
   "execution_count": 6,
   "metadata": {},
   "outputs": [],
   "source": [
    "token = 'xxx'"
   ]
  },
  {
   "cell_type": "markdown",
   "metadata": {},
   "source": [
    "# DATES\n",
    "\n",
    "### 1) ad_delivery_date_min og ad_delivery_date_max"
   ]
  },
  {
   "cell_type": "code",
   "execution_count": 33,
   "metadata": {},
   "outputs": [],
   "source": [
    "params = {\n",
    "    'access_token': token,\n",
    "    'ad_type': 'POLITICAL_AND_ISSUE_ADS', #currently only type available\n",
    "    'ad_reached_countries': \"['DK']\", # Reached countries\n",
    "    'ad_active_status': 'Active', \n",
    "    'ad_delivery_date_min':'2021-11-20', #SET FROM DATE\n",
    "    'ad_delivery_date_max': '2021-11-20', #sET TO DATE\n",
    "    'fields': \",\".join(valid_query_fields),\n",
    "    'limit': 1000}"
   ]
  },
  {
   "cell_type": "code",
   "execution_count": 34,
   "metadata": {},
   "outputs": [],
   "source": [
    "ads = []\n",
    "\n",
    "for søg in [',', '.' ,'e', 'r', 'n', 's']:\n",
    "    \n",
    "    params.update({'search_terms': søg})\n",
    "    request = requests.get('https://graph.facebook.com/v4.0/ads_archive',params=params).json()\n",
    "    data = request['data']\n",
    "    df = pd.DataFrame.from_dict(data)\n",
    "\n",
    "    while len(data)>0:\n",
    "\n",
    "        ads.append(df)\n",
    "        url = request['paging']['next']\n",
    "        request = requests.get(url).json()\n",
    "        data = request['data']\n",
    "        df = pd.DataFrame.from_dict(data)    "
   ]
  },
  {
   "cell_type": "code",
   "execution_count": 35,
   "metadata": {},
   "outputs": [],
   "source": [
    "data = pd.concat(ads)"
   ]
  },
  {
   "cell_type": "code",
   "execution_count": 41,
   "metadata": {},
   "outputs": [],
   "source": [
    "data = data.drop_duplicates(subset='id')"
   ]
  }
 ],
 "metadata": {
  "kernelspec": {
   "display_name": "Python 3",
   "language": "python",
   "name": "python3"
  },
  "language_info": {
   "codemirror_mode": {
    "name": "ipython",
    "version": 3
   },
   "file_extension": ".py",
   "mimetype": "text/x-python",
   "name": "python",
   "nbconvert_exporter": "python",
   "pygments_lexer": "ipython3",
   "version": "3.8.3"
  }
 },
 "nbformat": 4,
 "nbformat_minor": 4
}
